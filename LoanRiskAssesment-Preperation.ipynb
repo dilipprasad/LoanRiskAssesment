{
 "cells": [
  {
   "cell_type": "code",
   "execution_count": 47,
   "id": "8f5996d5-277c-4a9f-b00a-edb16b5aa998",
   "metadata": {},
   "outputs": [],
   "source": [
    "#load the csv file\n",
    "\n",
    "import pandas as pd\n",
    "\n",
    "df = pd.read_csv(\"https://raw.githubusercontent.com/dilipprasad/LoanRiskAssesment/master/loan-dataset-1.csv\")"
   ]
  },
  {
   "cell_type": "code",
   "execution_count": 48,
   "id": "8568be11-4a1c-4472-9bba-d3825e556ca7",
   "metadata": {},
   "outputs": [
    {
     "data": {
      "text/html": [
       "<div>\n",
       "<style scoped>\n",
       "    .dataframe tbody tr th:only-of-type {\n",
       "        vertical-align: middle;\n",
       "    }\n",
       "\n",
       "    .dataframe tbody tr th {\n",
       "        vertical-align: top;\n",
       "    }\n",
       "\n",
       "    .dataframe thead th {\n",
       "        text-align: right;\n",
       "    }\n",
       "</style>\n",
       "<table border=\"1\" class=\"dataframe\">\n",
       "  <thead>\n",
       "    <tr style=\"text-align: right;\">\n",
       "      <th></th>\n",
       "      <th>principal_loan_amount</th>\n",
       "      <th>interest_rate</th>\n",
       "      <th>customer_monthly_income</th>\n",
       "      <th>customer_age</th>\n",
       "      <th>customer_credit_score</th>\n",
       "      <th>customer_zip_code</th>\n",
       "    </tr>\n",
       "  </thead>\n",
       "  <tbody>\n",
       "    <tr>\n",
       "      <th>count</th>\n",
       "      <td>15163.000000</td>\n",
       "      <td>15163.000000</td>\n",
       "      <td>15163.000000</td>\n",
       "      <td>15163.000000</td>\n",
       "      <td>15163.000000</td>\n",
       "      <td>15163.000000</td>\n",
       "    </tr>\n",
       "    <tr>\n",
       "      <th>mean</th>\n",
       "      <td>8072.432236</td>\n",
       "      <td>8.852800</td>\n",
       "      <td>4253.158346</td>\n",
       "      <td>41.070896</td>\n",
       "      <td>3.440018</td>\n",
       "      <td>10005.838027</td>\n",
       "    </tr>\n",
       "    <tr>\n",
       "      <th>std</th>\n",
       "      <td>4050.341783</td>\n",
       "      <td>0.814432</td>\n",
       "      <td>1304.176559</td>\n",
       "      <td>11.200741</td>\n",
       "      <td>1.367703</td>\n",
       "      <td>2.098677</td>\n",
       "    </tr>\n",
       "    <tr>\n",
       "      <th>min</th>\n",
       "      <td>1000.000000</td>\n",
       "      <td>7.500000</td>\n",
       "      <td>2000.000000</td>\n",
       "      <td>22.000000</td>\n",
       "      <td>0.000000</td>\n",
       "      <td>10001.000000</td>\n",
       "    </tr>\n",
       "    <tr>\n",
       "      <th>25%</th>\n",
       "      <td>4560.000000</td>\n",
       "      <td>8.000000</td>\n",
       "      <td>3120.000000</td>\n",
       "      <td>31.000000</td>\n",
       "      <td>3.000000</td>\n",
       "      <td>10004.000000</td>\n",
       "    </tr>\n",
       "    <tr>\n",
       "      <th>50%</th>\n",
       "      <td>8110.000000</td>\n",
       "      <td>9.000000</td>\n",
       "      <td>4250.000000</td>\n",
       "      <td>41.000000</td>\n",
       "      <td>4.000000</td>\n",
       "      <td>10006.000000</td>\n",
       "    </tr>\n",
       "    <tr>\n",
       "      <th>75%</th>\n",
       "      <td>11590.000000</td>\n",
       "      <td>9.500000</td>\n",
       "      <td>5390.000000</td>\n",
       "      <td>51.000000</td>\n",
       "      <td>5.000000</td>\n",
       "      <td>10008.000000</td>\n",
       "    </tr>\n",
       "    <tr>\n",
       "      <th>max</th>\n",
       "      <td>15000.000000</td>\n",
       "      <td>10.000000</td>\n",
       "      <td>6500.000000</td>\n",
       "      <td>60.000000</td>\n",
       "      <td>5.000000</td>\n",
       "      <td>10009.000000</td>\n",
       "    </tr>\n",
       "  </tbody>\n",
       "</table>\n",
       "</div>"
      ],
      "text/plain": [
       "       principal_loan_amount  interest_rate  customer_monthly_income  \\\n",
       "count           15163.000000   15163.000000             15163.000000   \n",
       "mean             8072.432236       8.852800              4253.158346   \n",
       "std              4050.341783       0.814432              1304.176559   \n",
       "min              1000.000000       7.500000              2000.000000   \n",
       "25%              4560.000000       8.000000              3120.000000   \n",
       "50%              8110.000000       9.000000              4250.000000   \n",
       "75%             11590.000000       9.500000              5390.000000   \n",
       "max             15000.000000      10.000000              6500.000000   \n",
       "\n",
       "       customer_age  customer_credit_score  customer_zip_code  \n",
       "count  15163.000000           15163.000000       15163.000000  \n",
       "mean      41.070896               3.440018       10005.838027  \n",
       "std       11.200741               1.367703           2.098677  \n",
       "min       22.000000               0.000000       10001.000000  \n",
       "25%       31.000000               3.000000       10004.000000  \n",
       "50%       41.000000               4.000000       10006.000000  \n",
       "75%       51.000000               5.000000       10008.000000  \n",
       "max       60.000000               5.000000       10009.000000  "
      ]
     },
     "execution_count": 48,
     "metadata": {},
     "output_type": "execute_result"
    }
   ],
   "source": [
    "df.describe()"
   ]
  },
  {
   "cell_type": "code",
   "execution_count": 49,
   "id": "64e28232-e55f-4576-b758-855533181246",
   "metadata": {},
   "outputs": [
    {
     "data": {
      "text/plain": [
       "(15163, 12)"
      ]
     },
     "execution_count": 49,
     "metadata": {},
     "output_type": "execute_result"
    }
   ],
   "source": [
    "#Understand the shape - rows and columns\n",
    "df.shape"
   ]
  },
  {
   "cell_type": "code",
   "execution_count": 50,
   "id": "ddd84e50-c729-45e4-8884-94ae355ad490",
   "metadata": {},
   "outputs": [
    {
     "name": "stdout",
     "output_type": "stream",
     "text": [
      "There are 163 duplicate rows in the DataFrame\n",
      "\n"
     ]
    }
   ],
   "source": [
    "if df.duplicated().any():\n",
    "    print('There are', df.duplicated().sum(), 'duplicate rows in the DataFrame\\n')\n",
    "else:\n",
    "    print('There are no duplicate rows in the DataFrame\\n')"
   ]
  },
  {
   "cell_type": "markdown",
   "id": "bcfab5ab-e7a4-4620-b31e-e504d1c0d1fc",
   "metadata": {},
   "source": [
    "We have lot of unique data so we are good with this data"
   ]
  },
  {
   "cell_type": "code",
   "execution_count": 51,
   "id": "51480a52-6dee-4642-a0c6-e08a879f674a",
   "metadata": {},
   "outputs": [
    {
     "name": "stdout",
     "output_type": "stream",
     "text": [
      "There are NaN values in the DataFrame\n",
      "is_approved    True\n",
      "is_default     True\n",
      "dtype: bool \n",
      "\n"
     ]
    }
   ],
   "source": [
    "   \n",
    "if df.isna().any().any():\n",
    "    print('There are NaN values in the DataFrame')\n",
    "    print(df.isna().any(axis=0)[df.isna().any()], '\\n')\n",
    "else:\n",
    "    print('There are no NaN values in the DataFrame\\n')"
   ]
  },
  {
   "cell_type": "code",
   "execution_count": 52,
   "id": "e606239b-2a5f-40f2-890c-c7790790b1fc",
   "metadata": {},
   "outputs": [
    {
     "name": "stdout",
     "output_type": "stream",
     "text": [
      "principal_loan_amount: 1000 to 15000\n",
      "request_date: 2023-01-01 to 2023-06-29\n",
      "interest_rate: 7.5 to 10.0\n",
      "loan_channel: ['WEB' 'MOBILE_APP' 'AGENT' 'AFFILIATE' 'DIRECT_SELLING'\n",
      " 'website_revamped' 'ANDROID_V2' 'ANDROID_V3' 'apple_new_v3']\n",
      "is_approved: [True nan]\n",
      "is_default: [nan True]\n",
      "customer_monthly_income: 2000 to 6500\n",
      "customer_age: 22 to 60\n",
      "customer_gender: ['Male' 'Female' 'M' 'F']\n"
     ]
    }
   ],
   "source": [
    "    \n",
    "print('principal_loan_amount:', df['principal_loan_amount'].min(), 'to', df['principal_loan_amount'].max())\n",
    "print('request_date:', df['request_date'].min(), 'to', df['request_date'].max())\n",
    "print('interest_rate:', df['interest_rate'].min(), 'to', df['interest_rate'].max())\n",
    "print('loan_channel:', df['loan_channel'].unique())\n",
    "print('is_approved:', df['is_approved'].unique())\n",
    "print('is_default:', df['is_default'].unique())\n",
    "print('customer_monthly_income:', df['customer_monthly_income'].min(), 'to', df['customer_monthly_income'].max())\n",
    "print('customer_age:', df['customer_age'].min(), 'to', df['customer_age'].max())\n",
    "print('customer_gender:', df['customer_gender'].unique())"
   ]
  },
  {
   "cell_type": "markdown",
   "id": "2730d262-17c0-4c10-a090-0e01751c67dd",
   "metadata": {},
   "source": [
    "Need to standardize customer_gender and loan_channel columns"
   ]
  },
  {
   "cell_type": "code",
   "execution_count": 53,
   "id": "27341e7c-502b-48dd-912a-56b9d06493d0",
   "metadata": {},
   "outputs": [
    {
     "data": {
      "text/plain": [
       "0        False\n",
       "1        False\n",
       "2        False\n",
       "3        False\n",
       "4        False\n",
       "         ...  \n",
       "15158    False\n",
       "15159    False\n",
       "15160    False\n",
       "15161    False\n",
       "15162    False\n",
       "Length: 15163, dtype: bool"
      ]
     },
     "execution_count": 53,
     "metadata": {},
     "output_type": "execute_result"
    }
   ],
   "source": [
    "df.duplicated()"
   ]
  },
  {
   "cell_type": "code",
   "execution_count": 54,
   "id": "732928d5-0a6e-4cb2-9359-36c7d715c067",
   "metadata": {},
   "outputs": [
    {
     "name": "stdout",
     "output_type": "stream",
     "text": [
      "Total rows :  15000\n",
      "There are no duplicate rows in the DataFrame\n",
      "\n"
     ]
    }
   ],
   "source": [
    "#Drop duplicates\n",
    "df = df.drop_duplicates()\n",
    " \n",
    "print('Total rows : ', df.shape[0])\n",
    "if df.duplicated().any():\n",
    "    print('There are', df.duplicated().sum(), 'duplicate rows in the DataFrame\\n')\n",
    "else:\n",
    "    print('There are no duplicate rows in the DataFrame\\n')"
   ]
  },
  {
   "cell_type": "code",
   "execution_count": 61,
   "id": "65af8e03-ec3b-47b4-9f95-eb86ea9469dd",
   "metadata": {},
   "outputs": [],
   "source": [
    "#Change the Blank/NaN values as false for is_Approved and is_Default\n",
    "\n",
    "df['is_approved']= df['is_approved'].fillna(False)\n",
    "df['is_default']= df['is_default'].fillna(False)"
   ]
  },
  {
   "cell_type": "code",
   "execution_count": 62,
   "id": "92834849-ace8-41b7-990f-daf332910dad",
   "metadata": {},
   "outputs": [
    {
     "name": "stdout",
     "output_type": "stream",
     "text": [
      "There are no NaN values in the DataFrame\n",
      "\n"
     ]
    }
   ],
   "source": [
    "#Check if there are NaN in the df   \n",
    "if df.isna().any().any():\n",
    "    print('There are NaN values in the DataFrame')\n",
    "    print(df.isna().any(axis=0)[df.isna().any()], '\\n')\n",
    "else:\n",
    "    print('There are no NaN values in the DataFrame\\n')"
   ]
  },
  {
   "cell_type": "code",
   "execution_count": 67,
   "id": "3c84c8a5-5f83-4664-bd4f-3b020e61fcd7",
   "metadata": {},
   "outputs": [
    {
     "data": {
      "text/plain": [
       "array(['WEB', 'MOBILE_APP', 'AGENT', 'AFFILIATE', 'DIRECT_SELLING'],\n",
       "      dtype=object)"
      ]
     },
     "execution_count": 67,
     "metadata": {},
     "output_type": "execute_result"
    }
   ],
   "source": [
    "#Streamline loan_channel - android, apply as mobile app\n",
    "\n",
    "mapping_loan_chanel = {\n",
    "    'WEBSITE_REVAMPED': 'WEB',\n",
    "    'ANDROID_V2': 'MOBILE_APP',\n",
    "    'ANDROID_V3': 'MOBILE_APP',\n",
    "    'APPLE_NEW_V3': 'MOBILE_APP'\n",
    "}\n",
    "\n",
    " \n",
    "# df['loan_channel'].str.upper().replace(mapping_loan_chanel).unique()\n",
    "df['loan_channel'] = df['loan_channel'].str.upper().replace(mapping_loan_chanel)\n",
    "df['loan_channel'].unique()"
   ]
  },
  {
   "cell_type": "code",
   "execution_count": 68,
   "id": "5b8bcd50-9f41-4ca3-97b2-6743aafb0d8b",
   "metadata": {},
   "outputs": [
    {
     "data": {
      "text/plain": [
       "array(['Male', 'Female', 'M', 'F'], dtype=object)"
      ]
     },
     "execution_count": 68,
     "metadata": {},
     "output_type": "execute_result"
    }
   ],
   "source": [
    "#Perform similar on Gender\n",
    "df['customer_gender'].unique()"
   ]
  },
  {
   "cell_type": "code",
   "execution_count": 71,
   "id": "81946ad9-a50b-4455-b23d-3cf533c3fef8",
   "metadata": {},
   "outputs": [
    {
     "data": {
      "text/plain": [
       "array(['M', 'F'], dtype=object)"
      ]
     },
     "execution_count": 71,
     "metadata": {},
     "output_type": "execute_result"
    }
   ],
   "source": [
    "\n",
    "mapping_gender = {\n",
    "    'M': 'M',\n",
    "    'F': 'F',\n",
    "    'MALE': 'M',\n",
    "    'FEMALE': 'F'\n",
    "}\n",
    "df['customer_gender'].str.upper().replace(mapping_gender).unique()\n",
    "df['customer_gender'] = df['customer_gender'].str.upper().replace(mapping_gender)\n",
    "df['customer_gender'].unique()"
   ]
  },
  {
   "cell_type": "code",
   "execution_count": 72,
   "id": "5d40bb80-9e44-44b3-8ec2-a9cf83204ee0",
   "metadata": {},
   "outputs": [],
   "source": [
    "df.to_csv('loan-dataset-1-clean.csv', index=False)"
   ]
  },
  {
   "cell_type": "code",
   "execution_count": null,
   "id": "2ab594b3-8dc1-4353-8c51-b57409b1e2d4",
   "metadata": {},
   "outputs": [],
   "source": []
  }
 ],
 "metadata": {
  "kernelspec": {
   "display_name": "Python 3 (ipykernel)",
   "language": "python",
   "name": "python3"
  },
  "language_info": {
   "codemirror_mode": {
    "name": "ipython",
    "version": 3
   },
   "file_extension": ".py",
   "mimetype": "text/x-python",
   "name": "python",
   "nbconvert_exporter": "python",
   "pygments_lexer": "ipython3",
   "version": "3.8.10"
  }
 },
 "nbformat": 4,
 "nbformat_minor": 5
}
