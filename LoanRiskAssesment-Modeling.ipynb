{
 "cells": [
  {
   "cell_type": "markdown",
   "id": "7d807b48-b74d-4a51-a90a-905204e2d02d",
   "metadata": {},
   "source": [
    "Find the variable affecting the loan default rate"
   ]
  },
  {
   "cell_type": "code",
   "execution_count": 127,
   "id": "61f9ee31-5855-4404-94f4-878d0fd4a565",
   "metadata": {},
   "outputs": [],
   "source": [
    "import pandas as pd\n",
    "\n",
    "df = pd.read_csv(\"https://raw.githubusercontent.com/dilipprasad/LoanRiskAssesment/master/loan-dataset-1-clean.csv\")"
   ]
  },
  {
   "cell_type": "code",
   "execution_count": 128,
   "id": "b6dc2e1d-dbc0-4474-b9f5-672fe38271a5",
   "metadata": {},
   "outputs": [
    {
     "name": "stdout",
     "output_type": "stream",
     "text": [
      "There are no duplicate rows in the DataFrame\n",
      "\n",
      "There are no NaN values in the DataFrame\n",
      "\n"
     ]
    }
   ],
   "source": [
    "#Perform quick validation \n",
    "\n",
    "if df.duplicated().any():\n",
    "    print('There are', df.duplicated().sum(), 'duplicate rows in the DataFrame\\n')\n",
    "else:\n",
    "    print('There are no duplicate rows in the DataFrame\\n')\n",
    "    \n",
    "#Check if there are NaN in the df   \n",
    "if df.isna().any().any():\n",
    "    print('There are NaN values in the DataFrame')\n",
    "    print(df.isna().any(axis=0)[df.isna().any()], '\\n')\n",
    "else:\n",
    "    print('There are no NaN values in the DataFrame\\n')    "
   ]
  },
  {
   "cell_type": "code",
   "execution_count": 129,
   "id": "9683443e-d28f-4b4f-a05b-a0da4c100079",
   "metadata": {},
   "outputs": [
    {
     "data": {
      "text/html": [
       "<div>\n",
       "<style scoped>\n",
       "    .dataframe tbody tr th:only-of-type {\n",
       "        vertical-align: middle;\n",
       "    }\n",
       "\n",
       "    .dataframe tbody tr th {\n",
       "        vertical-align: top;\n",
       "    }\n",
       "\n",
       "    .dataframe thead th {\n",
       "        text-align: right;\n",
       "    }\n",
       "</style>\n",
       "<table border=\"1\" class=\"dataframe\">\n",
       "  <thead>\n",
       "    <tr style=\"text-align: right;\">\n",
       "      <th></th>\n",
       "      <th>loan_id</th>\n",
       "      <th>principal_loan_amount</th>\n",
       "      <th>request_date</th>\n",
       "      <th>interest_rate</th>\n",
       "      <th>loan_channel</th>\n",
       "      <th>is_approved</th>\n",
       "      <th>is_default</th>\n",
       "      <th>customer_monthly_income</th>\n",
       "      <th>customer_age</th>\n",
       "      <th>customer_gender</th>\n",
       "      <th>customer_credit_score</th>\n",
       "      <th>customer_zip_code</th>\n",
       "    </tr>\n",
       "  </thead>\n",
       "  <tbody>\n",
       "    <tr>\n",
       "      <th>0</th>\n",
       "      <td>70280c1b-4339-4949-ba69-ad2a6cb6b782</td>\n",
       "      <td>8880</td>\n",
       "      <td>2023-03-06</td>\n",
       "      <td>9.0</td>\n",
       "      <td>WEB</td>\n",
       "      <td>False</td>\n",
       "      <td>False</td>\n",
       "      <td>6100</td>\n",
       "      <td>30</td>\n",
       "      <td>M</td>\n",
       "      <td>3</td>\n",
       "      <td>10007</td>\n",
       "    </tr>\n",
       "    <tr>\n",
       "      <th>1</th>\n",
       "      <td>8a550559-9749-491b-b6aa-7188bc0a488f</td>\n",
       "      <td>13720</td>\n",
       "      <td>2023-05-10</td>\n",
       "      <td>10.0</td>\n",
       "      <td>MOBILE_APP</td>\n",
       "      <td>False</td>\n",
       "      <td>False</td>\n",
       "      <td>5150</td>\n",
       "      <td>39</td>\n",
       "      <td>F</td>\n",
       "      <td>3</td>\n",
       "      <td>10004</td>\n",
       "    </tr>\n",
       "    <tr>\n",
       "      <th>2</th>\n",
       "      <td>5644d27e-e05e-4a40-bef3-64187892338f</td>\n",
       "      <td>2090</td>\n",
       "      <td>2023-02-16</td>\n",
       "      <td>7.5</td>\n",
       "      <td>AGENT</td>\n",
       "      <td>False</td>\n",
       "      <td>False</td>\n",
       "      <td>6030</td>\n",
       "      <td>43</td>\n",
       "      <td>F</td>\n",
       "      <td>3</td>\n",
       "      <td>10003</td>\n",
       "    </tr>\n",
       "    <tr>\n",
       "      <th>3</th>\n",
       "      <td>9d8d17ac-8af9-4936-ba5d-8d5ed5e0cfab</td>\n",
       "      <td>6820</td>\n",
       "      <td>2023-02-26</td>\n",
       "      <td>8.5</td>\n",
       "      <td>MOBILE_APP</td>\n",
       "      <td>False</td>\n",
       "      <td>False</td>\n",
       "      <td>2150</td>\n",
       "      <td>54</td>\n",
       "      <td>M</td>\n",
       "      <td>0</td>\n",
       "      <td>10004</td>\n",
       "    </tr>\n",
       "    <tr>\n",
       "      <th>4</th>\n",
       "      <td>4586ad7a-2231-419b-b8e3-ba03b929b56e</td>\n",
       "      <td>13770</td>\n",
       "      <td>2023-04-13</td>\n",
       "      <td>10.0</td>\n",
       "      <td>AFFILIATE</td>\n",
       "      <td>False</td>\n",
       "      <td>False</td>\n",
       "      <td>5810</td>\n",
       "      <td>28</td>\n",
       "      <td>F</td>\n",
       "      <td>2</td>\n",
       "      <td>10007</td>\n",
       "    </tr>\n",
       "  </tbody>\n",
       "</table>\n",
       "</div>"
      ],
      "text/plain": [
       "                                loan_id  principal_loan_amount request_date  \\\n",
       "0  70280c1b-4339-4949-ba69-ad2a6cb6b782                   8880   2023-03-06   \n",
       "1  8a550559-9749-491b-b6aa-7188bc0a488f                  13720   2023-05-10   \n",
       "2  5644d27e-e05e-4a40-bef3-64187892338f                   2090   2023-02-16   \n",
       "3  9d8d17ac-8af9-4936-ba5d-8d5ed5e0cfab                   6820   2023-02-26   \n",
       "4  4586ad7a-2231-419b-b8e3-ba03b929b56e                  13770   2023-04-13   \n",
       "\n",
       "   interest_rate loan_channel  is_approved  is_default  \\\n",
       "0            9.0          WEB        False       False   \n",
       "1           10.0   MOBILE_APP        False       False   \n",
       "2            7.5        AGENT        False       False   \n",
       "3            8.5   MOBILE_APP        False       False   \n",
       "4           10.0    AFFILIATE        False       False   \n",
       "\n",
       "   customer_monthly_income  customer_age customer_gender  \\\n",
       "0                     6100            30               M   \n",
       "1                     5150            39               F   \n",
       "2                     6030            43               F   \n",
       "3                     2150            54               M   \n",
       "4                     5810            28               F   \n",
       "\n",
       "   customer_credit_score  customer_zip_code  \n",
       "0                      3              10007  \n",
       "1                      3              10004  \n",
       "2                      3              10003  \n",
       "3                      0              10004  \n",
       "4                      2              10007  "
      ]
     },
     "execution_count": 129,
     "metadata": {},
     "output_type": "execute_result"
    }
   ],
   "source": [
    "df.head()"
   ]
  },
  {
   "cell_type": "code",
   "execution_count": 130,
   "id": "12e9ec6c-8b17-489b-a976-7bf5e653d1c9",
   "metadata": {},
   "outputs": [
    {
     "data": {
      "text/html": [
       "<div>\n",
       "<style scoped>\n",
       "    .dataframe tbody tr th:only-of-type {\n",
       "        vertical-align: middle;\n",
       "    }\n",
       "\n",
       "    .dataframe tbody tr th {\n",
       "        vertical-align: top;\n",
       "    }\n",
       "\n",
       "    .dataframe thead th {\n",
       "        text-align: right;\n",
       "    }\n",
       "</style>\n",
       "<table border=\"1\" class=\"dataframe\">\n",
       "  <thead>\n",
       "    <tr style=\"text-align: right;\">\n",
       "      <th></th>\n",
       "      <th>principal_loan_amount</th>\n",
       "      <th>interest_rate</th>\n",
       "      <th>customer_monthly_income</th>\n",
       "      <th>customer_age</th>\n",
       "      <th>customer_credit_score</th>\n",
       "      <th>customer_zip_code</th>\n",
       "    </tr>\n",
       "  </thead>\n",
       "  <tbody>\n",
       "    <tr>\n",
       "      <th>count</th>\n",
       "      <td>15000.000000</td>\n",
       "      <td>15000.000000</td>\n",
       "      <td>15000.000000</td>\n",
       "      <td>15000.000000</td>\n",
       "      <td>15000.000000</td>\n",
       "      <td>15000.000000</td>\n",
       "    </tr>\n",
       "    <tr>\n",
       "      <th>mean</th>\n",
       "      <td>8074.066000</td>\n",
       "      <td>8.853000</td>\n",
       "      <td>4253.235333</td>\n",
       "      <td>41.075600</td>\n",
       "      <td>3.442267</td>\n",
       "      <td>10005.836267</td>\n",
       "    </tr>\n",
       "    <tr>\n",
       "      <th>std</th>\n",
       "      <td>4052.892796</td>\n",
       "      <td>0.814781</td>\n",
       "      <td>1303.524409</td>\n",
       "      <td>11.204475</td>\n",
       "      <td>1.367866</td>\n",
       "      <td>2.098544</td>\n",
       "    </tr>\n",
       "    <tr>\n",
       "      <th>min</th>\n",
       "      <td>1000.000000</td>\n",
       "      <td>7.500000</td>\n",
       "      <td>2000.000000</td>\n",
       "      <td>22.000000</td>\n",
       "      <td>0.000000</td>\n",
       "      <td>10001.000000</td>\n",
       "    </tr>\n",
       "    <tr>\n",
       "      <th>25%</th>\n",
       "      <td>4550.000000</td>\n",
       "      <td>8.000000</td>\n",
       "      <td>3120.000000</td>\n",
       "      <td>31.000000</td>\n",
       "      <td>3.000000</td>\n",
       "      <td>10004.000000</td>\n",
       "    </tr>\n",
       "    <tr>\n",
       "      <th>50%</th>\n",
       "      <td>8110.000000</td>\n",
       "      <td>9.000000</td>\n",
       "      <td>4255.000000</td>\n",
       "      <td>41.000000</td>\n",
       "      <td>4.000000</td>\n",
       "      <td>10006.000000</td>\n",
       "    </tr>\n",
       "    <tr>\n",
       "      <th>75%</th>\n",
       "      <td>11590.000000</td>\n",
       "      <td>9.500000</td>\n",
       "      <td>5390.000000</td>\n",
       "      <td>51.000000</td>\n",
       "      <td>5.000000</td>\n",
       "      <td>10008.000000</td>\n",
       "    </tr>\n",
       "    <tr>\n",
       "      <th>max</th>\n",
       "      <td>15000.000000</td>\n",
       "      <td>10.000000</td>\n",
       "      <td>6500.000000</td>\n",
       "      <td>60.000000</td>\n",
       "      <td>5.000000</td>\n",
       "      <td>10009.000000</td>\n",
       "    </tr>\n",
       "  </tbody>\n",
       "</table>\n",
       "</div>"
      ],
      "text/plain": [
       "       principal_loan_amount  interest_rate  customer_monthly_income  \\\n",
       "count           15000.000000   15000.000000             15000.000000   \n",
       "mean             8074.066000       8.853000              4253.235333   \n",
       "std              4052.892796       0.814781              1303.524409   \n",
       "min              1000.000000       7.500000              2000.000000   \n",
       "25%              4550.000000       8.000000              3120.000000   \n",
       "50%              8110.000000       9.000000              4255.000000   \n",
       "75%             11590.000000       9.500000              5390.000000   \n",
       "max             15000.000000      10.000000              6500.000000   \n",
       "\n",
       "       customer_age  customer_credit_score  customer_zip_code  \n",
       "count  15000.000000           15000.000000       15000.000000  \n",
       "mean      41.075600               3.442267       10005.836267  \n",
       "std       11.204475               1.367866           2.098544  \n",
       "min       22.000000               0.000000       10001.000000  \n",
       "25%       31.000000               3.000000       10004.000000  \n",
       "50%       41.000000               4.000000       10006.000000  \n",
       "75%       51.000000               5.000000       10008.000000  \n",
       "max       60.000000               5.000000       10009.000000  "
      ]
     },
     "execution_count": 130,
     "metadata": {},
     "output_type": "execute_result"
    }
   ],
   "source": [
    "df.describe()"
   ]
  },
  {
   "cell_type": "markdown",
   "id": "bbf2687e-39bc-4f1b-9547-5f05f35e910a",
   "metadata": {},
   "source": [
    "Start of Null hypothesis to confirm that  Default column is NOT affected by interest rate"
   ]
  },
  {
   "cell_type": "code",
   "execution_count": 131,
   "id": "86d01b3c-08e8-4c2e-b198-066f72e59230",
   "metadata": {},
   "outputs": [
    {
     "name": "stdout",
     "output_type": "stream",
     "text": [
      "Median value: 9.0\n"
     ]
    }
   ],
   "source": [
    "#Find median (Sort in ascending order and take the item in the center - ( (num of items/2) + 1) / 2)\n",
    "median = df['interest_rate'].median()\n",
    "print(\"Median value:\", median)\n"
   ]
  },
  {
   "cell_type": "code",
   "execution_count": 132,
   "id": "593c88e3-5100-4aa6-bf37-1969b816dc88",
   "metadata": {},
   "outputs": [],
   "source": [
    "#Seggregate and find high and low interest rate \n",
    "high_interest = df[df['interest_rate'] > median]\n",
    "low_interest = df[df['interest_rate'] <= median]\n"
   ]
  },
  {
   "cell_type": "code",
   "execution_count": 133,
   "id": "df9f6697-ac55-4dd2-9890-3d3f48073649",
   "metadata": {},
   "outputs": [
    {
     "data": {
      "text/plain": [
       "(5434, 12)"
      ]
     },
     "execution_count": 133,
     "metadata": {},
     "output_type": "execute_result"
    }
   ],
   "source": [
    "high_interest.shape"
   ]
  },
  {
   "cell_type": "code",
   "execution_count": 134,
   "id": "4ccc4a0e-d019-4a21-8822-4be627565e3e",
   "metadata": {},
   "outputs": [
    {
     "data": {
      "text/plain": [
       "(9566, 12)"
      ]
     },
     "execution_count": 134,
     "metadata": {},
     "output_type": "execute_result"
    }
   ],
   "source": [
    "low_interest.shape"
   ]
  },
  {
   "cell_type": "code",
   "execution_count": 135,
   "id": "7e652665-54bc-4dab-a743-c4b5b47e986a",
   "metadata": {},
   "outputs": [
    {
     "data": {
      "text/plain": [
       "0        False\n",
       "2        False\n",
       "3        False\n",
       "5        False\n",
       "7        False\n",
       "         ...  \n",
       "14992    False\n",
       "14993    False\n",
       "14994    False\n",
       "14995    False\n",
       "14998    False\n",
       "Name: is_default, Length: 9566, dtype: bool"
      ]
     },
     "execution_count": 135,
     "metadata": {},
     "output_type": "execute_result"
    }
   ],
   "source": [
    "low_interest['is_default']"
   ]
  },
  {
   "cell_type": "code",
   "execution_count": 136,
   "id": "70c2d410-0fc5-4578-9521-34e59550c5e4",
   "metadata": {},
   "outputs": [
    {
     "name": "stdout",
     "output_type": "stream",
     "text": [
      "high_default_rate : 0.0\n",
      "low_default_rate : 0.0\n"
     ]
    }
   ],
   "source": [
    "#The hypothesis is to find the relationship between interest rate and default rate. \n",
    "#Below we are Calculating the default rate's average (mean) for both interest rate groups.\n",
    "#Mean = sum of all numbers / number of items\n",
    "\n",
    "high_default_rate = high_interest['is_default'].mean()\n",
    "low_default_rate = low_interest['is_default'].mean()\n",
    "\n",
    "print(\"high_default_rate :\",high_default_rate)\n",
    "print(\"low_default_rate :\",low_default_rate)\n"
   ]
  },
  {
   "cell_type": "code",
   "execution_count": 137,
   "id": "11530d05-cc37-48c2-ad09-e14cf1c596da",
   "metadata": {},
   "outputs": [
    {
     "data": {
      "text/plain": [
       "0.0"
      ]
     },
     "execution_count": 137,
     "metadata": {},
     "output_type": "execute_result"
    }
   ],
   "source": [
    "high_default_rate"
   ]
  },
  {
   "cell_type": "code",
   "execution_count": 138,
   "id": "e0bb3717-957a-4bba-9638-bf6324a3b07b",
   "metadata": {},
   "outputs": [
    {
     "data": {
      "text/plain": [
       "0.0"
      ]
     },
     "execution_count": 138,
     "metadata": {},
     "output_type": "execute_result"
    }
   ],
   "source": [
    "low_default_rate"
   ]
  },
  {
   "cell_type": "code",
   "execution_count": 139,
   "id": "dcd20cf5-17fe-4247-9170-13fc3acbb000",
   "metadata": {},
   "outputs": [
    {
     "name": "stdout",
     "output_type": "stream",
     "text": [
      "t_stat - measures difference:  nan\n",
      "p_val tells how strong against null hypothesis: nan\n"
     ]
    }
   ],
   "source": [
    "# Default rate of loans with high interest rates versus the default rate of loans with low interest rates, \n",
    "#based on is_default column\n",
    "\n",
    "import scipy.stats as stats\n",
    "\n",
    "t_stat, p_val = stats.ttest_ind(high_interest['is_default'], low_interest['is_default'])\n",
    "\n",
    "print('t_stat - measures difference: ',t_stat)\n",
    "print('p_val tells how strong against null hypothesis:',p_val)"
   ]
  },
  {
   "cell_type": "code",
   "execution_count": 140,
   "id": "1108f41c-8d70-4560-8b66-de1620e8e5ff",
   "metadata": {},
   "outputs": [
    {
     "name": "stdout",
     "output_type": "stream",
     "text": [
      "High interest rate default rate: 0.00%\n",
      "Low interest rate default rate: 0.00%\n",
      "Two-tailed t-test: t-statistic = nan, p-value = nan\n"
     ]
    }
   ],
   "source": [
    "print('High interest rate default rate: {:.2%}'.format(high_default_rate))\n",
    "print('Low interest rate default rate: {:.2%}'.format(low_default_rate))\n",
    "print('Two-tailed t-test: t-statistic = {:.2f}, p-value = {:.2f}'.format(t_stat, p_val))"
   ]
  },
  {
   "cell_type": "markdown",
   "id": "e62ed050-3f34-4bd2-b763-eca47c6df25c",
   "metadata": {},
   "source": [
    "Since both are 0, the interest rate has no significant impact on loan default rate.\n",
    "The null hypothesis (the interest rate has no impact on the loan default rate) is true"
   ]
  },
  {
   "cell_type": "markdown",
   "id": "9b5f8649-3625-4a9e-9007-22161c552ab8",
   "metadata": {},
   "source": [
    "------------------------------------------------------------------"
   ]
  },
  {
   "cell_type": "markdown",
   "id": "144693bb-72d6-425a-8da2-ceaab8c0a016",
   "metadata": {},
   "source": [
    "Start of Null hypothesis to confirm that  Approval column is NOT affected by Income"
   ]
  },
  {
   "cell_type": "code",
   "execution_count": 141,
   "id": "6d6d22fa-bd4a-42d2-b36e-69703ffa071e",
   "metadata": {},
   "outputs": [
    {
     "data": {
      "text/html": [
       "<div>\n",
       "<style scoped>\n",
       "    .dataframe tbody tr th:only-of-type {\n",
       "        vertical-align: middle;\n",
       "    }\n",
       "\n",
       "    .dataframe tbody tr th {\n",
       "        vertical-align: top;\n",
       "    }\n",
       "\n",
       "    .dataframe thead th {\n",
       "        text-align: right;\n",
       "    }\n",
       "</style>\n",
       "<table border=\"1\" class=\"dataframe\">\n",
       "  <thead>\n",
       "    <tr style=\"text-align: right;\">\n",
       "      <th></th>\n",
       "      <th>loan_id</th>\n",
       "      <th>principal_loan_amount</th>\n",
       "      <th>request_date</th>\n",
       "      <th>interest_rate</th>\n",
       "      <th>loan_channel</th>\n",
       "      <th>is_approved</th>\n",
       "      <th>is_default</th>\n",
       "      <th>customer_monthly_income</th>\n",
       "      <th>customer_age</th>\n",
       "      <th>customer_gender</th>\n",
       "      <th>customer_credit_score</th>\n",
       "      <th>customer_zip_code</th>\n",
       "    </tr>\n",
       "  </thead>\n",
       "  <tbody>\n",
       "    <tr>\n",
       "      <th>0</th>\n",
       "      <td>70280c1b-4339-4949-ba69-ad2a6cb6b782</td>\n",
       "      <td>8880</td>\n",
       "      <td>2023-03-06</td>\n",
       "      <td>9.0</td>\n",
       "      <td>WEB</td>\n",
       "      <td>False</td>\n",
       "      <td>False</td>\n",
       "      <td>6100</td>\n",
       "      <td>30</td>\n",
       "      <td>M</td>\n",
       "      <td>3</td>\n",
       "      <td>10007</td>\n",
       "    </tr>\n",
       "    <tr>\n",
       "      <th>1</th>\n",
       "      <td>8a550559-9749-491b-b6aa-7188bc0a488f</td>\n",
       "      <td>13720</td>\n",
       "      <td>2023-05-10</td>\n",
       "      <td>10.0</td>\n",
       "      <td>MOBILE_APP</td>\n",
       "      <td>False</td>\n",
       "      <td>False</td>\n",
       "      <td>5150</td>\n",
       "      <td>39</td>\n",
       "      <td>F</td>\n",
       "      <td>3</td>\n",
       "      <td>10004</td>\n",
       "    </tr>\n",
       "    <tr>\n",
       "      <th>2</th>\n",
       "      <td>5644d27e-e05e-4a40-bef3-64187892338f</td>\n",
       "      <td>2090</td>\n",
       "      <td>2023-02-16</td>\n",
       "      <td>7.5</td>\n",
       "      <td>AGENT</td>\n",
       "      <td>False</td>\n",
       "      <td>False</td>\n",
       "      <td>6030</td>\n",
       "      <td>43</td>\n",
       "      <td>F</td>\n",
       "      <td>3</td>\n",
       "      <td>10003</td>\n",
       "    </tr>\n",
       "    <tr>\n",
       "      <th>3</th>\n",
       "      <td>9d8d17ac-8af9-4936-ba5d-8d5ed5e0cfab</td>\n",
       "      <td>6820</td>\n",
       "      <td>2023-02-26</td>\n",
       "      <td>8.5</td>\n",
       "      <td>MOBILE_APP</td>\n",
       "      <td>False</td>\n",
       "      <td>False</td>\n",
       "      <td>2150</td>\n",
       "      <td>54</td>\n",
       "      <td>M</td>\n",
       "      <td>0</td>\n",
       "      <td>10004</td>\n",
       "    </tr>\n",
       "    <tr>\n",
       "      <th>4</th>\n",
       "      <td>4586ad7a-2231-419b-b8e3-ba03b929b56e</td>\n",
       "      <td>13770</td>\n",
       "      <td>2023-04-13</td>\n",
       "      <td>10.0</td>\n",
       "      <td>AFFILIATE</td>\n",
       "      <td>False</td>\n",
       "      <td>False</td>\n",
       "      <td>5810</td>\n",
       "      <td>28</td>\n",
       "      <td>F</td>\n",
       "      <td>2</td>\n",
       "      <td>10007</td>\n",
       "    </tr>\n",
       "  </tbody>\n",
       "</table>\n",
       "</div>"
      ],
      "text/plain": [
       "                                loan_id  principal_loan_amount request_date  \\\n",
       "0  70280c1b-4339-4949-ba69-ad2a6cb6b782                   8880   2023-03-06   \n",
       "1  8a550559-9749-491b-b6aa-7188bc0a488f                  13720   2023-05-10   \n",
       "2  5644d27e-e05e-4a40-bef3-64187892338f                   2090   2023-02-16   \n",
       "3  9d8d17ac-8af9-4936-ba5d-8d5ed5e0cfab                   6820   2023-02-26   \n",
       "4  4586ad7a-2231-419b-b8e3-ba03b929b56e                  13770   2023-04-13   \n",
       "\n",
       "   interest_rate loan_channel  is_approved  is_default  \\\n",
       "0            9.0          WEB        False       False   \n",
       "1           10.0   MOBILE_APP        False       False   \n",
       "2            7.5        AGENT        False       False   \n",
       "3            8.5   MOBILE_APP        False       False   \n",
       "4           10.0    AFFILIATE        False       False   \n",
       "\n",
       "   customer_monthly_income  customer_age customer_gender  \\\n",
       "0                     6100            30               M   \n",
       "1                     5150            39               F   \n",
       "2                     6030            43               F   \n",
       "3                     2150            54               M   \n",
       "4                     5810            28               F   \n",
       "\n",
       "   customer_credit_score  customer_zip_code  \n",
       "0                      3              10007  \n",
       "1                      3              10004  \n",
       "2                      3              10003  \n",
       "3                      0              10004  \n",
       "4                      2              10007  "
      ]
     },
     "execution_count": 141,
     "metadata": {},
     "output_type": "execute_result"
    }
   ],
   "source": [
    "df.head()"
   ]
  },
  {
   "cell_type": "code",
   "execution_count": 142,
   "id": "0f5fcdf3-a1b6-4e79-a43e-1fcdd700208e",
   "metadata": {},
   "outputs": [
    {
     "name": "stdout",
     "output_type": "stream",
     "text": [
      "Median value: 4255.0\n"
     ]
    }
   ],
   "source": [
    "median = df['customer_monthly_income'].median()\n",
    "print(\"Median value:\", median)"
   ]
  },
  {
   "cell_type": "code",
   "execution_count": 143,
   "id": "a23ba75b-a458-4731-8578-4d089f1478c4",
   "metadata": {},
   "outputs": [],
   "source": [
    "#Seggregate and find high and low income\n",
    "high_income = df[df['customer_monthly_income'] > median]\n",
    "low_income = df[df['customer_monthly_income'] <= median]"
   ]
  },
  {
   "cell_type": "code",
   "execution_count": 144,
   "id": "c4cd4995-7995-434d-8b0e-e7f7b8d5d680",
   "metadata": {},
   "outputs": [
    {
     "name": "stdout",
     "output_type": "stream",
     "text": [
      "high_income_rate : 0.0\n",
      "low_income_rate : 0.0\n"
     ]
    }
   ],
   "source": [
    "#The hypothesis is to find the relationship between interest rate and default rate. \n",
    "#Below we are Calculating the default rate's average (mean) for both interest rate groups.\n",
    "#Mean = sum of all numbers / number of items\n",
    "\n",
    "high_approve_rate = high_interest['is_approved'].mean()\n",
    "low_approve_rate = low_interest['is_approved'].mean()\n",
    "\n",
    "print(\"high_income_rate :\",high_approve_rate)\n",
    "print(\"low_income_rate :\",low_approve_rate)\n"
   ]
  },
  {
   "cell_type": "code",
   "execution_count": 145,
   "id": "18091641-5fe1-48f6-b902-7ed03fa189b2",
   "metadata": {},
   "outputs": [
    {
     "data": {
      "text/plain": [
       "(7500, 12)"
      ]
     },
     "execution_count": 145,
     "metadata": {},
     "output_type": "execute_result"
    }
   ],
   "source": [
    "high_income.shape"
   ]
  },
  {
   "cell_type": "code",
   "execution_count": 146,
   "id": "d1598108-697d-48c5-904f-d27c1237d168",
   "metadata": {},
   "outputs": [
    {
     "data": {
      "text/plain": [
       "(7500, 12)"
      ]
     },
     "execution_count": 146,
     "metadata": {},
     "output_type": "execute_result"
    }
   ],
   "source": [
    "low_income.shape"
   ]
  },
  {
   "cell_type": "code",
   "execution_count": 147,
   "id": "691ef050-8911-4f42-91c2-67c011a137df",
   "metadata": {},
   "outputs": [
    {
     "name": "stdout",
     "output_type": "stream",
     "text": [
      "t_stat - measures difference:  nan\n",
      "p_val tells how strong against null hypothesis: nan\n"
     ]
    }
   ],
   "source": [
    "\n",
    "import scipy.stats as stats\n",
    "\n",
    "t_stat, p_val = stats.ttest_ind(high_income['is_approved'], low_income['is_approved'])\n",
    "\n",
    "print('t_stat - measures difference: ',t_stat)\n",
    "print('p_val tells how strong against null hypothesis:',p_val)"
   ]
  },
  {
   "cell_type": "code",
   "execution_count": 148,
   "id": "9b2f17c3-510f-4c2e-98b1-041d07275a48",
   "metadata": {},
   "outputs": [
    {
     "name": "stdout",
     "output_type": "stream",
     "text": [
      "High income rate default rate: 0.00%\n",
      "Low income rate default rate: 0.00%\n",
      "Two-tailed t-test: t-statistic = nan, p-value = nan\n"
     ]
    }
   ],
   "source": [
    "print('High income rate default rate: {:.2%}'.format(high_approve_rate))\n",
    "print('Low income rate default rate: {:.2%}'.format(low_approve_rate))\n",
    "print('Two-tailed t-test: t-statistic = {:.2f}, p-value = {:.2f}'.format(t_stat, p_val))"
   ]
  },
  {
   "cell_type": "code",
   "execution_count": null,
   "id": "09270e88-7f25-4f85-9f56-0772250d4c03",
   "metadata": {},
   "outputs": [],
   "source": [
    "Since both are 0, the interest rate has no significant impact on loan default rate.\n",
    "The null hypothesis (the interest rate has no impact on the loan default rate) is true"
   ]
  },
  {
   "cell_type": "markdown",
   "id": "8e2f8245-655c-43c1-8dae-2646463d7c8b",
   "metadata": {},
   "source": [
    "================================================================================="
   ]
  },
  {
   "cell_type": "markdown",
   "id": "2842c802-7c1b-4978-a321-78fba8592f0c",
   "metadata": {},
   "source": [
    "We proved our point that Loan default is not dependent on Interest and also Loan Approval rate is not dependend on salary\n"
   ]
  },
  {
   "cell_type": "markdown",
   "id": "ec11adec-df35-4fae-bb32-6d3f63fb1f07",
   "metadata": {},
   "source": [
    "====================================================================================="
   ]
  },
  {
   "cell_type": "code",
   "execution_count": 166,
   "id": "6d954803-f571-4920-adca-6af06b391120",
   "metadata": {},
   "outputs": [
    {
     "data": {
      "text/plain": [
       "array([0])"
      ]
     },
     "execution_count": 166,
     "metadata": {},
     "output_type": "execute_result"
    }
   ],
   "source": [
    "df[\"is_default\"].unique()"
   ]
  },
  {
   "cell_type": "code",
   "execution_count": 159,
   "id": "5ee50de7-04e3-4bc5-ae55-4a83d2892362",
   "metadata": {},
   "outputs": [
    {
     "data": {
      "text/html": [
       "<div>\n",
       "<style scoped>\n",
       "    .dataframe tbody tr th:only-of-type {\n",
       "        vertical-align: middle;\n",
       "    }\n",
       "\n",
       "    .dataframe tbody tr th {\n",
       "        vertical-align: top;\n",
       "    }\n",
       "\n",
       "    .dataframe thead th {\n",
       "        text-align: right;\n",
       "    }\n",
       "</style>\n",
       "<table border=\"1\" class=\"dataframe\">\n",
       "  <thead>\n",
       "    <tr style=\"text-align: right;\">\n",
       "      <th></th>\n",
       "      <th>loan_id</th>\n",
       "      <th>principal_loan_amount</th>\n",
       "      <th>request_date</th>\n",
       "      <th>interest_rate</th>\n",
       "      <th>loan_channel</th>\n",
       "      <th>is_approved</th>\n",
       "      <th>is_default</th>\n",
       "      <th>customer_monthly_income</th>\n",
       "      <th>customer_age</th>\n",
       "      <th>customer_gender</th>\n",
       "      <th>customer_credit_score</th>\n",
       "      <th>customer_zip_code</th>\n",
       "    </tr>\n",
       "  </thead>\n",
       "  <tbody>\n",
       "    <tr>\n",
       "      <th>0</th>\n",
       "      <td>70280c1b-4339-4949-ba69-ad2a6cb6b782</td>\n",
       "      <td>8880</td>\n",
       "      <td>2023-03-06</td>\n",
       "      <td>9.0</td>\n",
       "      <td>WEB</td>\n",
       "      <td>0</td>\n",
       "      <td>0</td>\n",
       "      <td>6100</td>\n",
       "      <td>30</td>\n",
       "      <td>M</td>\n",
       "      <td>3</td>\n",
       "      <td>10007</td>\n",
       "    </tr>\n",
       "    <tr>\n",
       "      <th>1</th>\n",
       "      <td>8a550559-9749-491b-b6aa-7188bc0a488f</td>\n",
       "      <td>13720</td>\n",
       "      <td>2023-05-10</td>\n",
       "      <td>10.0</td>\n",
       "      <td>MOBILE_APP</td>\n",
       "      <td>0</td>\n",
       "      <td>0</td>\n",
       "      <td>5150</td>\n",
       "      <td>39</td>\n",
       "      <td>F</td>\n",
       "      <td>3</td>\n",
       "      <td>10004</td>\n",
       "    </tr>\n",
       "    <tr>\n",
       "      <th>2</th>\n",
       "      <td>5644d27e-e05e-4a40-bef3-64187892338f</td>\n",
       "      <td>2090</td>\n",
       "      <td>2023-02-16</td>\n",
       "      <td>7.5</td>\n",
       "      <td>AGENT</td>\n",
       "      <td>0</td>\n",
       "      <td>0</td>\n",
       "      <td>6030</td>\n",
       "      <td>43</td>\n",
       "      <td>F</td>\n",
       "      <td>3</td>\n",
       "      <td>10003</td>\n",
       "    </tr>\n",
       "    <tr>\n",
       "      <th>3</th>\n",
       "      <td>9d8d17ac-8af9-4936-ba5d-8d5ed5e0cfab</td>\n",
       "      <td>6820</td>\n",
       "      <td>2023-02-26</td>\n",
       "      <td>8.5</td>\n",
       "      <td>MOBILE_APP</td>\n",
       "      <td>0</td>\n",
       "      <td>0</td>\n",
       "      <td>2150</td>\n",
       "      <td>54</td>\n",
       "      <td>M</td>\n",
       "      <td>0</td>\n",
       "      <td>10004</td>\n",
       "    </tr>\n",
       "    <tr>\n",
       "      <th>4</th>\n",
       "      <td>4586ad7a-2231-419b-b8e3-ba03b929b56e</td>\n",
       "      <td>13770</td>\n",
       "      <td>2023-04-13</td>\n",
       "      <td>10.0</td>\n",
       "      <td>AFFILIATE</td>\n",
       "      <td>0</td>\n",
       "      <td>0</td>\n",
       "      <td>5810</td>\n",
       "      <td>28</td>\n",
       "      <td>F</td>\n",
       "      <td>2</td>\n",
       "      <td>10007</td>\n",
       "    </tr>\n",
       "  </tbody>\n",
       "</table>\n",
       "</div>"
      ],
      "text/plain": [
       "                                loan_id  principal_loan_amount request_date  \\\n",
       "0  70280c1b-4339-4949-ba69-ad2a6cb6b782                   8880   2023-03-06   \n",
       "1  8a550559-9749-491b-b6aa-7188bc0a488f                  13720   2023-05-10   \n",
       "2  5644d27e-e05e-4a40-bef3-64187892338f                   2090   2023-02-16   \n",
       "3  9d8d17ac-8af9-4936-ba5d-8d5ed5e0cfab                   6820   2023-02-26   \n",
       "4  4586ad7a-2231-419b-b8e3-ba03b929b56e                  13770   2023-04-13   \n",
       "\n",
       "   interest_rate loan_channel  is_approved  is_default  \\\n",
       "0            9.0          WEB            0           0   \n",
       "1           10.0   MOBILE_APP            0           0   \n",
       "2            7.5        AGENT            0           0   \n",
       "3            8.5   MOBILE_APP            0           0   \n",
       "4           10.0    AFFILIATE            0           0   \n",
       "\n",
       "   customer_monthly_income  customer_age customer_gender  \\\n",
       "0                     6100            30               M   \n",
       "1                     5150            39               F   \n",
       "2                     6030            43               F   \n",
       "3                     2150            54               M   \n",
       "4                     5810            28               F   \n",
       "\n",
       "   customer_credit_score  customer_zip_code  \n",
       "0                      3              10007  \n",
       "1                      3              10004  \n",
       "2                      3              10003  \n",
       "3                      0              10004  \n",
       "4                      2              10007  "
      ]
     },
     "execution_count": 159,
     "metadata": {},
     "output_type": "execute_result"
    }
   ],
   "source": [
    "\n",
    "df_prep = df\n",
    "df_prep[\"is_approved\"] = df_prep[\"is_approved\"].replace({False: 0, True: 1})\n",
    "df_prep[\"is_default\"] = df_prep[\"is_default\"].replace({False: 0, True: 1})\n",
    "\n",
    "df_prep.head()"
   ]
  },
  {
   "cell_type": "code",
   "execution_count": 164,
   "id": "93a787f1-3e09-40ab-8126-025a2d5c936e",
   "metadata": {},
   "outputs": [
    {
     "data": {
      "text/plain": [
       "array([0])"
      ]
     },
     "execution_count": 164,
     "metadata": {},
     "output_type": "execute_result"
    }
   ],
   "source": [
    "df_prep[\"is_approved\"].unique()\n"
   ]
  },
  {
   "cell_type": "code",
   "execution_count": 165,
   "id": "07822093-ad60-4f28-8c35-2522c713df80",
   "metadata": {},
   "outputs": [
    {
     "data": {
      "text/plain": [
       "array([0])"
      ]
     },
     "execution_count": 165,
     "metadata": {},
     "output_type": "execute_result"
    }
   ],
   "source": [
    "df_prep[\"is_default\"].unique()"
   ]
  },
  {
   "cell_type": "code",
   "execution_count": 157,
   "id": "f0c11da0-01ea-44bf-b19c-498f492cae29",
   "metadata": {},
   "outputs": [
    {
     "data": {
      "image/png": "[encoded data removed]",
      "text/plain": [
       "<Figure size 640x480 with 2 Axes>"
      ]
     },
     "metadata": {},
     "output_type": "display_data"
    }
   ],
   "source": [
    "import seaborn as sns\n",
    "\n",
    "# checking correlation using heatmap\n",
    "#plotting the heatmap for correlation\n",
    "ax = sns.heatmap(df_prep.corr(), annot=True)"
   ]
  },
  {
   "cell_type": "markdown",
   "id": "25708d9d-c281-4b19-9bf7-f1ef4fab43cf",
   "metadata": {},
   "source": [
    "So far could not find and relation"
   ]
  },
  {
   "cell_type": "markdown",
   "id": "c7e42b89-b8b0-49df-99ce-b8657bb50131",
   "metadata": {},
   "source": [
    "As per the excercise-  need to find out possible variable(s) that affect loan default rate\n",
    "The risk team suggested the following variable possibilities:\n",
    "customer_monthly_income\n",
    "customer_zip_code"
   ]
  },
  {
   "cell_type": "code",
   "execution_count": 170,
   "id": "c8bc7cd7-bdf5-42b9-8b3f-0f360420329f",
   "metadata": {},
   "outputs": [
    {
     "ename": "PerfectSeparationError",
     "evalue": "Perfect separation detected, results not available",
     "output_type": "error",
     "traceback": [
      "\u001b[0;31m---------------------------------------------------------------------------\u001b[0m",
      "\u001b[0;31mPerfectSeparationError\u001b[0m                    Traceback (most recent call last)",
      "Cell \u001b[0;32mIn[170], line 9\u001b[0m\n\u001b[1;32m      7\u001b[0m \u001b[38;5;66;03m#X = sm.add_constant(X)\u001b[39;00m\n\u001b[1;32m      8\u001b[0m y \u001b[38;5;241m=\u001b[39m df[\u001b[38;5;124m'\u001b[39m\u001b[38;5;124mis_default\u001b[39m\u001b[38;5;124m'\u001b[39m]\n\u001b[0;32m----> 9\u001b[0m model \u001b[38;5;241m=\u001b[39m \u001b[43msm\u001b[49m\u001b[38;5;241;43m.\u001b[39;49m\u001b[43mLogit\u001b[49m\u001b[43m(\u001b[49m\u001b[43my\u001b[49m\u001b[43m,\u001b[49m\u001b[43m \u001b[49m\u001b[43mX\u001b[49m\u001b[43m)\u001b[49m\u001b[38;5;241;43m.\u001b[39;49m\u001b[43mfit\u001b[49m\u001b[43m(\u001b[49m\u001b[43m)\u001b[49m\n\u001b[1;32m     10\u001b[0m \u001b[38;5;28mprint\u001b[39m(model\u001b[38;5;241m.\u001b[39msummary())\n",
      "File \u001b[0;32m~/.local/lib/python3.8/site-packages/statsmodels/discrete/discrete_model.py:1983\u001b[0m, in \u001b[0;36mLogit.fit\u001b[0;34m(self, start_params, method, maxiter, full_output, disp, callback, **kwargs)\u001b[0m\n\u001b[1;32m   1980\u001b[0m \u001b[38;5;129m@Appender\u001b[39m(DiscreteModel\u001b[38;5;241m.\u001b[39mfit\u001b[38;5;241m.\u001b[39m\u001b[38;5;18m__doc__\u001b[39m)\n\u001b[1;32m   1981\u001b[0m \u001b[38;5;28;01mdef\u001b[39;00m \u001b[38;5;21mfit\u001b[39m(\u001b[38;5;28mself\u001b[39m, start_params\u001b[38;5;241m=\u001b[39m\u001b[38;5;28;01mNone\u001b[39;00m, method\u001b[38;5;241m=\u001b[39m\u001b[38;5;124m'\u001b[39m\u001b[38;5;124mnewton\u001b[39m\u001b[38;5;124m'\u001b[39m, maxiter\u001b[38;5;241m=\u001b[39m\u001b[38;5;241m35\u001b[39m,\n\u001b[1;32m   1982\u001b[0m         full_output\u001b[38;5;241m=\u001b[39m\u001b[38;5;241m1\u001b[39m, disp\u001b[38;5;241m=\u001b[39m\u001b[38;5;241m1\u001b[39m, callback\u001b[38;5;241m=\u001b[39m\u001b[38;5;28;01mNone\u001b[39;00m, \u001b[38;5;241m*\u001b[39m\u001b[38;5;241m*\u001b[39mkwargs):\n\u001b[0;32m-> 1983\u001b[0m     bnryfit \u001b[38;5;241m=\u001b[39m \u001b[38;5;28;43msuper\u001b[39;49m\u001b[43m(\u001b[49m\u001b[43m)\u001b[49m\u001b[38;5;241;43m.\u001b[39;49m\u001b[43mfit\u001b[49m\u001b[43m(\u001b[49m\u001b[43mstart_params\u001b[49m\u001b[38;5;241;43m=\u001b[39;49m\u001b[43mstart_params\u001b[49m\u001b[43m,\u001b[49m\n\u001b[1;32m   1984\u001b[0m \u001b[43m                          \u001b[49m\u001b[43mmethod\u001b[49m\u001b[38;5;241;43m=\u001b[39;49m\u001b[43mmethod\u001b[49m\u001b[43m,\u001b[49m\n\u001b[1;32m   1985\u001b[0m \u001b[43m                          \u001b[49m\u001b[43mmaxiter\u001b[49m\u001b[38;5;241;43m=\u001b[39;49m\u001b[43mmaxiter\u001b[49m\u001b[43m,\u001b[49m\n\u001b[1;32m   1986\u001b[0m \u001b[43m                          \u001b[49m\u001b[43mfull_output\u001b[49m\u001b[38;5;241;43m=\u001b[39;49m\u001b[43mfull_output\u001b[49m\u001b[43m,\u001b[49m\n\u001b[1;32m   1987\u001b[0m \u001b[43m                          \u001b[49m\u001b[43mdisp\u001b[49m\u001b[38;5;241;43m=\u001b[39;49m\u001b[43mdisp\u001b[49m\u001b[43m,\u001b[49m\n\u001b[1;32m   1988\u001b[0m \u001b[43m                          \u001b[49m\u001b[43mcallback\u001b[49m\u001b[38;5;241;43m=\u001b[39;49m\u001b[43mcallback\u001b[49m\u001b[43m,\u001b[49m\n\u001b[1;32m   1989\u001b[0m \u001b[43m                          \u001b[49m\u001b[38;5;241;43m*\u001b[39;49m\u001b[38;5;241;43m*\u001b[39;49m\u001b[43mkwargs\u001b[49m\u001b[43m)\u001b[49m\n\u001b[1;32m   1991\u001b[0m     discretefit \u001b[38;5;241m=\u001b[39m LogitResults(\u001b[38;5;28mself\u001b[39m, bnryfit)\n\u001b[1;32m   1992\u001b[0m     \u001b[38;5;28;01mreturn\u001b[39;00m BinaryResultsWrapper(discretefit)\n",
      "File \u001b[0;32m~/.local/lib/python3.8/site-packages/statsmodels/discrete/discrete_model.py:230\u001b[0m, in \u001b[0;36mDiscreteModel.fit\u001b[0;34m(self, start_params, method, maxiter, full_output, disp, callback, **kwargs)\u001b[0m\n\u001b[1;32m    227\u001b[0m \u001b[38;5;28;01melse\u001b[39;00m:\n\u001b[1;32m    228\u001b[0m     \u001b[38;5;28;01mpass\u001b[39;00m  \u001b[38;5;66;03m# TODO: make a function factory to have multiple call-backs\u001b[39;00m\n\u001b[0;32m--> 230\u001b[0m mlefit \u001b[38;5;241m=\u001b[39m \u001b[38;5;28;43msuper\u001b[39;49m\u001b[43m(\u001b[49m\u001b[43m)\u001b[49m\u001b[38;5;241;43m.\u001b[39;49m\u001b[43mfit\u001b[49m\u001b[43m(\u001b[49m\u001b[43mstart_params\u001b[49m\u001b[38;5;241;43m=\u001b[39;49m\u001b[43mstart_params\u001b[49m\u001b[43m,\u001b[49m\n\u001b[1;32m    231\u001b[0m \u001b[43m                     \u001b[49m\u001b[43mmethod\u001b[49m\u001b[38;5;241;43m=\u001b[39;49m\u001b[43mmethod\u001b[49m\u001b[43m,\u001b[49m\n\u001b[1;32m    232\u001b[0m \u001b[43m                     \u001b[49m\u001b[43mmaxiter\u001b[49m\u001b[38;5;241;43m=\u001b[39;49m\u001b[43mmaxiter\u001b[49m\u001b[43m,\u001b[49m\n\u001b[1;32m    233\u001b[0m \u001b[43m                     \u001b[49m\u001b[43mfull_output\u001b[49m\u001b[38;5;241;43m=\u001b[39;49m\u001b[43mfull_output\u001b[49m\u001b[43m,\u001b[49m\n\u001b[1;32m    234\u001b[0m \u001b[43m                     \u001b[49m\u001b[43mdisp\u001b[49m\u001b[38;5;241;43m=\u001b[39;49m\u001b[43mdisp\u001b[49m\u001b[43m,\u001b[49m\n\u001b[1;32m    235\u001b[0m \u001b[43m                     \u001b[49m\u001b[43mcallback\u001b[49m\u001b[38;5;241;43m=\u001b[39;49m\u001b[43mcallback\u001b[49m\u001b[43m,\u001b[49m\n\u001b[1;32m    236\u001b[0m \u001b[43m                     \u001b[49m\u001b[38;5;241;43m*\u001b[39;49m\u001b[38;5;241;43m*\u001b[39;49m\u001b[43mkwargs\u001b[49m\u001b[43m)\u001b[49m\n\u001b[1;32m    238\u001b[0m \u001b[38;5;28;01mreturn\u001b[39;00m mlefit\n",
      "File \u001b[0;32m~/.local/lib/python3.8/site-packages/statsmodels/base/model.py:563\u001b[0m, in \u001b[0;36mLikelihoodModel.fit\u001b[0;34m(self, start_params, method, maxiter, full_output, disp, fargs, callback, retall, skip_hessian, **kwargs)\u001b[0m\n\u001b[1;32m    560\u001b[0m     \u001b[38;5;28;01mdel\u001b[39;00m kwargs[\u001b[38;5;124m\"\u001b[39m\u001b[38;5;124muse_t\u001b[39m\u001b[38;5;124m\"\u001b[39m]\n\u001b[1;32m    562\u001b[0m optimizer \u001b[38;5;241m=\u001b[39m Optimizer()\n\u001b[0;32m--> 563\u001b[0m xopt, retvals, optim_settings \u001b[38;5;241m=\u001b[39m \u001b[43moptimizer\u001b[49m\u001b[38;5;241;43m.\u001b[39;49m\u001b[43m_fit\u001b[49m\u001b[43m(\u001b[49m\u001b[43mf\u001b[49m\u001b[43m,\u001b[49m\u001b[43m \u001b[49m\u001b[43mscore\u001b[49m\u001b[43m,\u001b[49m\u001b[43m \u001b[49m\u001b[43mstart_params\u001b[49m\u001b[43m,\u001b[49m\n\u001b[1;32m    564\u001b[0m \u001b[43m                                               \u001b[49m\u001b[43mfargs\u001b[49m\u001b[43m,\u001b[49m\u001b[43m \u001b[49m\u001b[43mkwargs\u001b[49m\u001b[43m,\u001b[49m\n\u001b[1;32m    565\u001b[0m \u001b[43m                                               \u001b[49m\u001b[43mhessian\u001b[49m\u001b[38;5;241;43m=\u001b[39;49m\u001b[43mhess\u001b[49m\u001b[43m,\u001b[49m\n\u001b[1;32m    566\u001b[0m \u001b[43m                                               \u001b[49m\u001b[43mmethod\u001b[49m\u001b[38;5;241;43m=\u001b[39;49m\u001b[43mmethod\u001b[49m\u001b[43m,\u001b[49m\n\u001b[1;32m    567\u001b[0m \u001b[43m                                               \u001b[49m\u001b[43mdisp\u001b[49m\u001b[38;5;241;43m=\u001b[39;49m\u001b[43mdisp\u001b[49m\u001b[43m,\u001b[49m\n\u001b[1;32m    568\u001b[0m \u001b[43m                                               \u001b[49m\u001b[43mmaxiter\u001b[49m\u001b[38;5;241;43m=\u001b[39;49m\u001b[43mmaxiter\u001b[49m\u001b[43m,\u001b[49m\n\u001b[1;32m    569\u001b[0m \u001b[43m                                               \u001b[49m\u001b[43mcallback\u001b[49m\u001b[38;5;241;43m=\u001b[39;49m\u001b[43mcallback\u001b[49m\u001b[43m,\u001b[49m\n\u001b[1;32m    570\u001b[0m \u001b[43m                                               \u001b[49m\u001b[43mretall\u001b[49m\u001b[38;5;241;43m=\u001b[39;49m\u001b[43mretall\u001b[49m\u001b[43m,\u001b[49m\n\u001b[1;32m    571\u001b[0m \u001b[43m                                               \u001b[49m\u001b[43mfull_output\u001b[49m\u001b[38;5;241;43m=\u001b[39;49m\u001b[43mfull_output\u001b[49m\u001b[43m)\u001b[49m\n\u001b[1;32m    572\u001b[0m \u001b[38;5;66;03m# Restore cov_type, cov_kwds and use_t\u001b[39;00m\n\u001b[1;32m    573\u001b[0m optim_settings\u001b[38;5;241m.\u001b[39mupdate(kwds)\n",
      "File \u001b[0;32m~/.local/lib/python3.8/site-packages/statsmodels/base/optimizer.py:241\u001b[0m, in \u001b[0;36mOptimizer._fit\u001b[0;34m(self, objective, gradient, start_params, fargs, kwargs, hessian, method, maxiter, full_output, disp, callback, retall)\u001b[0m\n\u001b[1;32m    238\u001b[0m     fit_funcs\u001b[38;5;241m.\u001b[39mupdate(extra_fit_funcs)\n\u001b[1;32m    240\u001b[0m func \u001b[38;5;241m=\u001b[39m fit_funcs[method]\n\u001b[0;32m--> 241\u001b[0m xopt, retvals \u001b[38;5;241m=\u001b[39m \u001b[43mfunc\u001b[49m\u001b[43m(\u001b[49m\u001b[43mobjective\u001b[49m\u001b[43m,\u001b[49m\u001b[43m \u001b[49m\u001b[43mgradient\u001b[49m\u001b[43m,\u001b[49m\u001b[43m \u001b[49m\u001b[43mstart_params\u001b[49m\u001b[43m,\u001b[49m\u001b[43m \u001b[49m\u001b[43mfargs\u001b[49m\u001b[43m,\u001b[49m\u001b[43m \u001b[49m\u001b[43mkwargs\u001b[49m\u001b[43m,\u001b[49m\n\u001b[1;32m    242\u001b[0m \u001b[43m                     \u001b[49m\u001b[43mdisp\u001b[49m\u001b[38;5;241;43m=\u001b[39;49m\u001b[43mdisp\u001b[49m\u001b[43m,\u001b[49m\u001b[43m \u001b[49m\u001b[43mmaxiter\u001b[49m\u001b[38;5;241;43m=\u001b[39;49m\u001b[43mmaxiter\u001b[49m\u001b[43m,\u001b[49m\u001b[43m \u001b[49m\u001b[43mcallback\u001b[49m\u001b[38;5;241;43m=\u001b[39;49m\u001b[43mcallback\u001b[49m\u001b[43m,\u001b[49m\n\u001b[1;32m    243\u001b[0m \u001b[43m                     \u001b[49m\u001b[43mretall\u001b[49m\u001b[38;5;241;43m=\u001b[39;49m\u001b[43mretall\u001b[49m\u001b[43m,\u001b[49m\u001b[43m \u001b[49m\u001b[43mfull_output\u001b[49m\u001b[38;5;241;43m=\u001b[39;49m\u001b[43mfull_output\u001b[49m\u001b[43m,\u001b[49m\n\u001b[1;32m    244\u001b[0m \u001b[43m                     \u001b[49m\u001b[43mhess\u001b[49m\u001b[38;5;241;43m=\u001b[39;49m\u001b[43mhessian\u001b[49m\u001b[43m)\u001b[49m\n\u001b[1;32m    246\u001b[0m optim_settings \u001b[38;5;241m=\u001b[39m {\u001b[38;5;124m'\u001b[39m\u001b[38;5;124moptimizer\u001b[39m\u001b[38;5;124m'\u001b[39m: method, \u001b[38;5;124m'\u001b[39m\u001b[38;5;124mstart_params\u001b[39m\u001b[38;5;124m'\u001b[39m: start_params,\n\u001b[1;32m    247\u001b[0m                   \u001b[38;5;124m'\u001b[39m\u001b[38;5;124mmaxiter\u001b[39m\u001b[38;5;124m'\u001b[39m: maxiter, \u001b[38;5;124m'\u001b[39m\u001b[38;5;124mfull_output\u001b[39m\u001b[38;5;124m'\u001b[39m: full_output,\n\u001b[1;32m    248\u001b[0m                   \u001b[38;5;124m'\u001b[39m\u001b[38;5;124mdisp\u001b[39m\u001b[38;5;124m'\u001b[39m: disp, \u001b[38;5;124m'\u001b[39m\u001b[38;5;124mfargs\u001b[39m\u001b[38;5;124m'\u001b[39m: fargs, \u001b[38;5;124m'\u001b[39m\u001b[38;5;124mcallback\u001b[39m\u001b[38;5;124m'\u001b[39m: callback,\n\u001b[1;32m    249\u001b[0m                   \u001b[38;5;124m'\u001b[39m\u001b[38;5;124mretall\u001b[39m\u001b[38;5;124m'\u001b[39m: retall, \u001b[38;5;124m\"\u001b[39m\u001b[38;5;124mextra_fit_funcs\u001b[39m\u001b[38;5;124m\"\u001b[39m: extra_fit_funcs}\n\u001b[1;32m    250\u001b[0m optim_settings\u001b[38;5;241m.\u001b[39mupdate(kwargs)\n",
      "File \u001b[0;32m~/.local/lib/python3.8/site-packages/statsmodels/base/optimizer.py:443\u001b[0m, in \u001b[0;36m_fit_newton\u001b[0;34m(f, score, start_params, fargs, kwargs, disp, maxiter, callback, retall, full_output, hess, ridge_factor)\u001b[0m\n\u001b[1;32m    441\u001b[0m         history\u001b[38;5;241m.\u001b[39mappend(newparams)\n\u001b[1;32m    442\u001b[0m     \u001b[38;5;28;01mif\u001b[39;00m callback \u001b[38;5;129;01mis\u001b[39;00m \u001b[38;5;129;01mnot\u001b[39;00m \u001b[38;5;28;01mNone\u001b[39;00m:\n\u001b[0;32m--> 443\u001b[0m         \u001b[43mcallback\u001b[49m\u001b[43m(\u001b[49m\u001b[43mnewparams\u001b[49m\u001b[43m)\u001b[49m\n\u001b[1;32m    444\u001b[0m     iterations \u001b[38;5;241m+\u001b[39m\u001b[38;5;241m=\u001b[39m \u001b[38;5;241m1\u001b[39m\n\u001b[1;32m    445\u001b[0m fval \u001b[38;5;241m=\u001b[39m f(newparams, \u001b[38;5;241m*\u001b[39mfargs)  \u001b[38;5;66;03m# this is the negative likelihood\u001b[39;00m\n",
      "File \u001b[0;32m~/.local/lib/python3.8/site-packages/statsmodels/discrete/discrete_model.py:214\u001b[0m, in \u001b[0;36mDiscreteModel._check_perfect_pred\u001b[0;34m(self, params, *args)\u001b[0m\n\u001b[1;32m    211\u001b[0m \u001b[38;5;28;01mif\u001b[39;00m (\u001b[38;5;28mself\u001b[39m\u001b[38;5;241m.\u001b[39mraise_on_perfect_prediction \u001b[38;5;129;01mand\u001b[39;00m\n\u001b[1;32m    212\u001b[0m         np\u001b[38;5;241m.\u001b[39mallclose(fittedvalues \u001b[38;5;241m-\u001b[39m endog, \u001b[38;5;241m0\u001b[39m)):\n\u001b[1;32m    213\u001b[0m     msg \u001b[38;5;241m=\u001b[39m \u001b[38;5;124m\"\u001b[39m\u001b[38;5;124mPerfect separation detected, results not available\u001b[39m\u001b[38;5;124m\"\u001b[39m\n\u001b[0;32m--> 214\u001b[0m     \u001b[38;5;28;01mraise\u001b[39;00m PerfectSeparationError(msg)\n",
      "\u001b[0;31mPerfectSeparationError\u001b[0m: Perfect separation detected, results not available"
     ]
    }
   ],
   "source": [
    "import pandas as pd\n",
    "import statsmodels.api as sm\n",
    "\n",
    "#Let's use regression test against data to find out whether the risk team's suggestion is correct.\n",
    "\n",
    "X = df[['customer_monthly_income', 'customer_zip_code']]\n",
    "#X = sm.add_constant(X)\n",
    "y = df['is_default']\n",
    "model = sm.Logit(y, X).fit()\n",
    "print(model.summary())"
   ]
  },
  {
   "cell_type": "code",
   "execution_count": 169,
   "id": "cdcc4a4c-7f1f-460e-8889-13168250fe4e",
   "metadata": {},
   "outputs": [
    {
     "data": {
      "text/plain": [
       "array([1.])"
      ]
     },
     "execution_count": 169,
     "metadata": {},
     "output_type": "execute_result"
    }
   ],
   "source": []
  },
  {
   "cell_type": "code",
   "execution_count": null,
   "id": "26602a75-9663-44d7-8894-859f9388bbf9",
   "metadata": {},
   "outputs": [],
   "source": []
  }
 ],
 "metadata": {
  "kernelspec": {
   "display_name": "Python 3 (ipykernel)",
   "language": "python",
   "name": "python3"
  },
  "language_info": {
   "codemirror_mode": {
    "name": "ipython",
    "version": 3
   },
   "file_extension": ".py",
   "mimetype": "text/x-python",
   "name": "python",
   "nbconvert_exporter": "python",
   "pygments_lexer": "ipython3",
   "version": "3.8.10"
  }
 },
 "nbformat": 4,
 "nbformat_minor": 5
}
